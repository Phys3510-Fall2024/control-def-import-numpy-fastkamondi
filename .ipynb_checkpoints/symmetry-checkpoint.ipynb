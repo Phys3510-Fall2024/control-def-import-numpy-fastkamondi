{
 "cells": [
  {
   "cell_type": "code",
   "execution_count": 8,
   "id": "0fc77661-db7a-48db-a7df-c731fbaef561",
   "metadata": {},
   "outputs": [
    {
     "name": "stdout",
     "output_type": "stream",
     "text": [
      "[ 1  1 -1]\n"
     ]
    }
   ],
   "source": [
    "import numpy as np\n",
    "\n",
    "# define base vectors\n",
    "a = np.array([1, 0, 0])\n",
    "b = np.array([0, 1, 0])\n",
    "c = np.array([0, 0, 1])\n",
    "\n",
    "# define \"vector-like\" objects\n",
    "scal = np.dot(c, c)\n",
    "pseudo_scal = np.dot(c, np.cross(a, b))\n",
    "polar_vec = c\n",
    "axial_vec = np.cross(a, b)\n",
    "\n",
    "# define symmetry operaters\n",
    "\n",
    "identity = np.array([[1, 0, 0],\n",
    "                     [0, 1, 0],\n",
    "                     [0, 0, 1]])\n",
    "\n",
    "inversion = np.array([[-1,  0,  0],\n",
    "                      [ 0, -1,  0],\n",
    "                      [ 0,  0, -1]])\n",
    "mirror_z = np.array([[1, 0,  0],\n",
    "                     [0, 1,  0],\n",
    "                     [0, 0, -1]])\n",
    "\n",
    "# mirror_x\n",
    "# rotation_180\n",
    "\n",
    "print(mirror_z @ np.array([1, 1, 1]))\n",
    "# print(mirror_x @ np.array([1, 1, 1]))\n",
    "# print(rotation_180 @ np.array([1, 1, 1]))\n",
    "\n",
    "\n",
    "# id_scalar = np.dot(identity @ c, identity @ c)\n",
    "# id_pseudo_scalar = np.dot(identity @ c, np.cross(identity @ a, identity @ b))\n",
    "# id_polar_vec = identity @ c\n",
    "# id_axial_vec = np.cross(identity @ a, identity @ b)"
   ]
  },
  {
   "cell_type": "markdown",
   "id": "883b9249-9d75-47fc-80a6-98801af755cc",
   "metadata": {},
   "source": [
    "### Objects\n",
    "\n",
    "Scalar $ = \\vec{c} \\cdot \\vec{c} = 1 $\n",
    "\n",
    "Pseudoscalar $ = \\vec{c} \\cdot (\\vec{a} \\times \\vec{b}) = 1 $\n",
    "\n",
    "Polar vector $ = \\vec{c} = (0, 0, 1) $\n",
    "\n",
    "Axial vector $ = \\vec{a} \\times \\vec{b} = (0, 0, 1) $\n",
    "\n",
    "### Results\n",
    "\n",
    "| Object       | Identity | Spatial Inversion | Mirror in xy-Plane | Mirror in yz-Plane | 180° Rotation about x |\n",
    "|--------------|----------|-------------------|--------------------|--------------------|-----------------------|\n",
    "| Scalar       |    1     |  1                |                    |  1                 |  1                    |\n",
    "| Pseudoscalar |    1     | -1                |                    | -1                 |  1                    |\n",
    "| Polar Vector |    1     | -1                |                    |  1                 | -1                    |\n",
    "| Axial Vector |    1     |  1                |                    | -1                 | -1                    |"
   ]
  }
 ],
 "metadata": {
  "kernelspec": {
   "display_name": "Python 3 (ipykernel)",
   "language": "python",
   "name": "python3"
  },
  "language_info": {
   "codemirror_mode": {
    "name": "ipython",
    "version": 3
   },
   "file_extension": ".py",
   "mimetype": "text/x-python",
   "name": "python",
   "nbconvert_exporter": "python",
   "pygments_lexer": "ipython3",
   "version": "3.9.19"
  }
 },
 "nbformat": 4,
 "nbformat_minor": 5
}
