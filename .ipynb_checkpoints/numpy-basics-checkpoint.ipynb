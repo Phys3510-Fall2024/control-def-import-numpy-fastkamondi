{
 "cells": [
  {
   "cell_type": "markdown",
   "id": "705ef592-5b7a-434e-ba0d-086e2bae16db",
   "metadata": {},
   "source": [
    "## Best Practices for Importing Packages\n",
    "\n",
    "In Python, importing packages like `numpy` is currently essential for mathematical and scientific computing. \n",
    "\n",
    "It's important to follow best practices for importing and using packages efficiently.\n",
    "\n",
    "### 1. Standard Importing\n",
    "\n",
    "`numpy` is commonly imported with an alias (`np`) to simplify function calls.\n",
    "\n",
    "#### Best Practice:\n",
    "\n",
    "You can import `numpy` or its submodules or functions with the following approaches\n",
    "\n",
    "```python\n",
    "import numpy as np # RECOMMENDED. accesses all of numpy's submodules and functions. call these functions with np.[submodule/function]\n",
    "```\n",
    "\n",
    "This convention (`np`) is widely used and makes your code cleaner and easier to read, especially for others who may be familiar with `numpy`.\n",
    "\n",
    "### 2. Selective Importing\n",
    "\n",
    "```python\n",
    "from numpy import array, dot # import only specific functions\n",
    "```\n",
    "\n",
    "If you only need specific functions from `numpy`, import them directly to reduce namespace pollution. This can also make your code more efficient in some cases. The problem is that it requires you to be familiar with the submodules and functions in `numpy`, which we are still learning.\n",
    "\n",
    "### 3. Avoid import *\n",
    "\n",
    "While importing everything using `import *` might seem convenient, it can clutter the namespace and lead to conflicts with other libraries or functions. It’s also less clear which functions come from `numpy`.\n",
    "\n",
    "```python\n",
    "from numpy import * # NOT RECOMMENDED. this accesses all of numpy's submodules and functions, but the functions and submodules could potentially overwrite other loaded submodules and function\n",
    "```\n",
    "This practice makes your code harder to debug and understand and is **NOT RECOMMENDED.**"
   ]
  },
  {
   "cell_type": "markdown",
   "id": "7fdb3148-e8d8-4ca8-85bc-fea50738eeb5",
   "metadata": {},
   "source": [
    "## Using Built-in Python Tools to Explore numpy\n",
    "\n",
    "To learn more about numpy functions or objects, you can use Python’s built-in tools, which we have already played with, like `dir()`, `help()`.\n",
    "\n",
    "### 1. `dir()` – List Available Functions and Attributes\n",
    "\n",
    "The dir() function can be used to see all the functions and attributes available in numpy. This is helpful for exploring what the package offers.\n",
    "\n",
    "#### Example:"
   ]
  },
  {
   "cell_type": "code",
   "execution_count": null,
   "id": "ec8a07eb-8f6b-468e-8630-db31ddade776",
   "metadata": {},
   "outputs": [],
   "source": [
    "import numpy as np\n",
    "print(dir(np))  # Lists all functions and attributes in numpy (a bit overwhelming)"
   ]
  },
  {
   "cell_type": "markdown",
   "id": "9c033416-318b-4bdf-ac29-140cfde6e84a",
   "metadata": {},
   "source": [
    "This will output a long list of available functions and objects within the numpy module.\n",
    "### 2. help() – Detailed Documentation\n",
    "\n",
    "The `help()` function provides a description of the module or function, including usage, parameters, and examples.\n",
    "\n",
    "#### Example:"
   ]
  },
  {
   "cell_type": "code",
   "execution_count": null,
   "id": "71e1da66-1ca1-41e0-af11-fb7c89e229d4",
   "metadata": {},
   "outputs": [],
   "source": [
    "help(np.array)  # Get detailed documentation about the array function"
   ]
  },
  {
   "cell_type": "markdown",
   "id": "3b9ba800-a3a3-4f8f-84a3-dce4d99ff133",
   "metadata": {},
   "source": [
    "This will give you detailed information about how the `np.array()` function works, along with its parameters and examples.\n",
    "\n",
    "#### Example:"
   ]
  },
  {
   "cell_type": "code",
   "execution_count": null,
   "id": "c764cc78-cfd1-453f-aac2-571305316049",
   "metadata": {},
   "outputs": [],
   "source": [
    "help(np.linalg)  # Get detailed documentation about the linalg submodule"
   ]
  },
  {
   "cell_type": "markdown",
   "id": "24924f67-133d-45ec-b34d-7a21d2d0db56",
   "metadata": {},
   "source": [
    "This will give you detailed information about how the `np.linalg` submodule.\n",
    "\n",
    "#### Example:"
   ]
  },
  {
   "cell_type": "code",
   "execution_count": null,
   "id": "95426648-fcf4-43a1-a2d3-cbdbfc6a083d",
   "metadata": {},
   "outputs": [],
   "source": [
    "help(np.linalg.eig)  # Get detailed documentation about the linalg.eig submodule"
   ]
  },
  {
   "cell_type": "markdown",
   "id": "8b90a78b-c9af-4c59-b9e5-3dc2234fe2f8",
   "metadata": {},
   "source": [
    "## Introduction to Linear Algebra with numpy\n",
    "\n",
    "While Python lists can be used to represent vectors and matrices, `numpy` provides a more efficient and intuitive way to perform linear algebra operations.\n",
    "\n",
    "In this section, we will introduce the main matrix operations in `numpy`, compare them with native Python `list` operations, and see why `numpy` is the preferred tool for linear algebra."
   ]
  },
  {
   "cell_type": "markdown",
   "id": "de382b93-d1a1-4ba1-915d-9584ad7f3549",
   "metadata": {},
   "source": [
    "### Creating Vectors and Matrices in Python and numpy\n",
    "\n",
    "In Python, you can create vectors and matrices using lists or nested lists. However, performing mathematical operations like addition, multiplication, or dot products can be cumbersome.\n",
    "\n",
    "`numpy` simplifies this by providing the array object, which represents vectors and matrices and allows for efficient mathematical operations.\n",
    "\n",
    "#### Creating Vectors and Matrices with Lists (Native Python)"
   ]
  },
  {
   "cell_type": "code",
   "execution_count": 1,
   "id": "efedaa73-99a5-4865-be23-a2deee4e99dc",
   "metadata": {},
   "outputs": [
    {
     "name": "stdout",
     "output_type": "stream",
     "text": [
      "Vector: [1, 2, 3]\n",
      "Matrix: [[1, 2], [3, 4]]\n"
     ]
    }
   ],
   "source": [
    "# Creating a vector and a matrix using lists (Native Python)\n",
    "vector = [1, 2, 3]  # A simple vector\n",
    "matrix = [[1, 2], [3, 4]]  # A 2x2 matrix\n",
    "\n",
    "# Displaying the vector and matrix\n",
    "print(\"Vector:\", vector)\n",
    "print(\"Matrix:\", matrix)\n"
   ]
  },
  {
   "cell_type": "markdown",
   "id": "71764c36-7541-4320-8ea2-fa6385e5a663",
   "metadata": {},
   "source": [
    "### Creating Vectors and Matrices with `numpy`"
   ]
  },
  {
   "cell_type": "code",
   "execution_count": 2,
   "id": "835b5d2b-f284-4453-8721-d20abcceaed5",
   "metadata": {},
   "outputs": [
    {
     "name": "stdout",
     "output_type": "stream",
     "text": [
      "Numpy Vector:\n",
      " [1 2 3]\n",
      "Numpy Matrix:\n",
      " [[1 2]\n",
      " [3 4]]\n"
     ]
    }
   ],
   "source": [
    "import numpy as np\n",
    "\n",
    "# Creating a vector and a matrix using numpy arrays\n",
    "vector_np = np.array([1, 2, 3])\n",
    "matrix_np = np.array([[1, 2], [3, 4]])\n",
    "\n",
    "# Displaying the numpy vector and matrix\n",
    "print(\"Numpy Vector:\\n\", vector_np)\n",
    "print(\"Numpy Matrix:\\n\", matrix_np)\n"
   ]
  },
  {
   "cell_type": "markdown",
   "id": "a7a2261d-8e35-4b7a-8411-3682087cdacf",
   "metadata": {},
   "source": [
    "### Matrix Operations: Native Python vs `numpy`\n",
    "\n",
    "In native Python, performing operations like addition, multiplication, or dot products on lists requires explicit loops or list comprehensions. `numpy` allows you to perform these operations directly on arrays, making the code more concise and efficient.\n",
    "#### Common Matrix Operations:\n",
    "\n",
    "    Addition: Adding two matrices.\n",
    "    Matrix Multiplication: Multiplying two matrices.\n",
    "    Dot Product: Computing the dot product of two vectors.\n",
    "\n",
    "#### Addition: Native Python vs `numpy`"
   ]
  },
  {
   "cell_type": "code",
   "execution_count": 3,
   "id": "a29d2865-e641-4587-9ead-2176c1ea0bbb",
   "metadata": {},
   "outputs": [
    {
     "name": "stdout",
     "output_type": "stream",
     "text": [
      "The + operation actually concatenates these matrices:\n",
      " [[1, 2], [3, 4], [5, 6], [7, 8]]\n",
      "Matrix Addition (Numpy):\n",
      " [[ 6  8]\n",
      " [10 12]]\n"
     ]
    }
   ],
   "source": [
    "# Matrix Addition with Native Python\n",
    "matrix1 = [[1, 2], [3, 4]]\n",
    "matrix2 = [[5, 6], [7, 8]]\n",
    "\n",
    "# Manually adding two matrices (native Python)\n",
    "result_matrix = matrix1 + matrix2\n",
    "print(\"The + operation actually concatenates these matrices:\\n\", result_matrix)\n",
    "\n",
    "# Matrix Addition with numpy\n",
    "matrix1_np = np.array([[1, 2], [3, 4]])\n",
    "matrix2_np = np.array([[5, 6], [7, 8]])\n",
    "\n",
    "result_matrix_np = matrix1_np + matrix2_np  # Numpy handles matrix addition directly\n",
    "print(\"Matrix Addition (Numpy):\\n\", result_matrix_np)\n"
   ]
  },
  {
   "cell_type": "markdown",
   "id": "664238ab-1d6d-4615-8175-87f5f01216ba",
   "metadata": {},
   "source": [
    "### Matrix Multiplication in `numpy`\n",
    "\n",
    "**You'll need to comment out the native python lines. They won't work**"
   ]
  },
  {
   "cell_type": "code",
   "execution_count": 5,
   "id": "a4d71d45-940b-458a-9623-167499a94347",
   "metadata": {},
   "outputs": [
    {
     "name": "stdout",
     "output_type": "stream",
     "text": [
      "Matrix Multiplication (Numpy):\n",
      " [[19 22]\n",
      " [43 50]]\n"
     ]
    }
   ],
   "source": [
    "# Matrix multiplication with Native Python\n",
    "# matrix1 = [[1, 2], [3, 4]]\n",
    "# matrix2 = [[5, 6], [7, 8]]\n",
    "\n",
    "# Manually performing matrix multiplication (nested loops)\n",
    "# result_matrix = matrix1 * matrix2\n",
    "# print(\"Matrix Multiplication (Native Python):\\n\", result_matrix)\n",
    "\n",
    "# Matrix multiplication with numpy\n",
    "matrix1_np = np.array([[1, 2], [3, 4]])\n",
    "matrix2_np = np.array([[5, 6], [7, 8]])\n",
    "\n",
    "result_matrix_np = np.dot(matrix1_np, matrix2_np)  # Numpy uses dot() for matrix multiplication\n",
    "print(\"Matrix Multiplication (Numpy):\\n\", result_matrix_np)\n"
   ]
  },
  {
   "cell_type": "markdown",
   "id": "0339e9b2-5234-4a30-89f8-a36a6f13f024",
   "metadata": {},
   "source": [
    "### Dot Product in `numpy`"
   ]
  },
  {
   "cell_type": "code",
   "execution_count": null,
   "id": "71ff4af2-f433-4814-843d-afc10e842430",
   "metadata": {},
   "outputs": [],
   "source": [
    "# Dot product with numpy\n",
    "vector1_np = np.array([1, 2, 3])\n",
    "vector2_np = np.array([4, 5, 6])\n",
    "\n",
    "dot_product_np = np.dot(vector1_np, vector2_np)  # Numpy handles dot product directly\n",
    "print(\"Dot Product (Numpy):\", dot_product_np)"
   ]
  },
  {
   "cell_type": "markdown",
   "id": "dc51614a-3497-438b-a40f-981ff9946c76",
   "metadata": {},
   "source": [
    "## Common numpy Operations and Linear Algebra Tools\n",
    "\n",
    "`numpy` is not only great for working with arrays, but it also provides powerful linear algebra capabilities through the `numpy.linalg` module. Here are some of the most common `numpy` operations for matrices and arrays, as well as key linear algebra functions like determinants, matrix inversion, and solving linear systems.\n",
    "\n",
    "### Common numpy Operations for Arrays and Matrices\n",
    "\n",
    "`numpy` offers a wide variety of functions that allow for easy manipulation of arrays and matrices. Some of the most common operations include:\n",
    "#### 1. Array Creation\n",
    "\n",
    "*    `np.array()`: Create an array from a list or nested list.\n",
    "*    `np.zeros()`: Create an array of all zeros.\n",
    "*    `np.ones()`: Create an array of all ones.\n",
    "*    `np.eye()`: Create an identity matrix.\n",
    "\n",
    "#### 2. Element-wise Operations\n",
    "\n",
    "*    `+`, `-`, `*`, `/`: Basic arithmetic operations are applied element-wise between two arrays.\n",
    "*    `np.sqrt()`: Calculate the square root of each element in an array.\n",
    "*    `np.exp()`: Exponentiate each element in the array.\n",
    "\n",
    "#### 3. Statistical Functions\n",
    "\n",
    "*    `np.sum()`: Compute the sum of array elements.\n",
    "*    `np.mean()`: Compute the mean (average) of array elements.\n",
    "*    `np.std()`: Compute the standard deviation.\n",
    "\n",
    "#### 4. Matrix Operations\n",
    "\n",
    "*    `np.transpose()`: Transpose of a matrix (swap rows and columns). You can also use `A.T` for a matrix A\n",
    "*    `np.conjugate()`: Conjugate of a matrix. Use `.conj().T` or `np.conjugate(array).T` for the conjugate-transpose/Hermitian conjugate\n",
    "*    `np.dot()`: Matrix multiplication or dot product.\n",
    "*    `@`: Matrix multiplication or dot product.\n",
    "\n",
    "### Examples of Common Array Operations"
   ]
  },
  {
   "cell_type": "code",
   "execution_count": null,
   "id": "3f8c12d7-4e9c-4cc8-94ec-7fd7b9457d38",
   "metadata": {},
   "outputs": [],
   "source": [
    "import numpy as np\n",
    "\n",
    "# Create a matrix (2D array)\n",
    "matrix = np.array([[1, 2], [3, 4]])\n",
    "\n",
    "# Create some special arrays\n",
    "zeros_matrix = np.zeros((2, 2))  # A 2x2 matrix of zeros\n",
    "ones_matrix = np.ones((2, 3))    # A 2x3 matrix of ones\n",
    "identity_matrix = np.eye(3)      # A 3x3 identity matrix\n",
    "\n",
    "# Perform element-wise operations\n",
    "elementwise_addition = matrix + np.array([[5, 6], [7, 8]])  # Element-wise addition\n",
    "elementwise_multiplication = matrix * 2  # Element-wise multiplication by 2\n",
    "elementwise_sqrt = np.sqrt(matrix)  # Element-wise square root\n",
    "\n",
    "# Print the results\n",
    "print(\"Matrix:\\n\", matrix)\n",
    "print(\"\\nZeros Matrix:\\n\", zeros_matrix)\n",
    "print(\"\\nOnes Matrix:\\n\", ones_matrix)\n",
    "print(\"\\nIdentity Matrix:\\n\", identity_matrix)\n",
    "print(\"\\nElement-wise Addition:\\n\", elementwise_addition)\n",
    "print(\"\\nElement-wise Multiplication by 2:\\n\", elementwise_multiplication)\n",
    "print(\"\\nElement-wise Square Root:\\n\", elementwise_sqrt)\n"
   ]
  },
  {
   "cell_type": "markdown",
   "id": "ca758afa-7583-4477-8a41-087502208639",
   "metadata": {},
   "source": [
    "### Linear Algebra with `numpy.linalg`\n",
    "\n",
    "`numpy` also provides a set of linear algebra functions through the `numpy.linalg` module, which makes it easy to perform complex matrix operations.\n",
    "\n",
    "#### 1. Matrix Inversion\n",
    "\n",
    "* `np.linalg.inv()`: Computes the inverse of a square matrix.\n",
    "\n",
    "#### 2. Determinants\n",
    "\n",
    "* `np.linalg.det()`: Computes the determinant of a matrix.\n",
    "\n",
    "#### 3. Eigenvalues and Eigenvectors\n",
    "\n",
    "* `np.linalg.eig()`: Computes the eigenvalues and eigenvectors of a matrix.\n",
    "\n",
    "#### 4. Solving Systems of Linear Equations\n",
    "\n",
    "* `np.linalg.solve()`: Solves the system of linear equations Ax = b for x.\n",
    "\n",
    "### Examples of Linear Algebra Operations"
   ]
  },
  {
   "cell_type": "code",
   "execution_count": null,
   "id": "5ec90d6a-bf5d-4dce-89fe-d82dacd67924",
   "metadata": {},
   "outputs": [],
   "source": [
    "import numpy as np\n",
    "\n",
    "# Create a 2x2 matrix\n",
    "matrix = np.array([[1, 2], [3, 4]])\n",
    "\n",
    "# Inverse of the matrix\n",
    "inverse_matrix = np.linalg.inv(matrix)\n",
    "\n",
    "# Determinant of the matrix\n",
    "determinant = np.linalg.det(matrix)\n",
    "\n",
    "# Eigenvalues and eigenvectors\n",
    "eigenvalues, eigenvectors = np.linalg.eig(matrix)\n",
    "\n",
    "# Solve the system Ax = b\n",
    "A = np.array([[3, 1], [1, 2]])\n",
    "b = np.array([9, 8])\n",
    "x = np.linalg.solve(A, b)\n",
    "\n",
    "# Print the results\n",
    "print(\"Matrix:\\n\", matrix)\n",
    "print(\"\\nInverse of the Matrix:\\n\", inverse_matrix)\n",
    "print(\"\\nDeterminant of the Matrix:\\n\", determinant)\n",
    "print(\"\\nEigenvalues:\\n\", eigenvalues)\n",
    "print(\"\\nEigenvectors:\\n\", eigenvectors)\n",
    "print(\"\\nSolution to the system Ax = b:\\n\", x)\n"
   ]
  },
  {
   "cell_type": "code",
   "execution_count": null,
   "id": "aed80e28-6342-47aa-bc5e-559f5a44c31b",
   "metadata": {},
   "outputs": [],
   "source": []
  }
 ],
 "metadata": {
  "kernelspec": {
   "display_name": "Python 3 (ipykernel)",
   "language": "python",
   "name": "python3"
  },
  "language_info": {
   "codemirror_mode": {
    "name": "ipython",
    "version": 3
   },
   "file_extension": ".py",
   "mimetype": "text/x-python",
   "name": "python",
   "nbconvert_exporter": "python",
   "pygments_lexer": "ipython3",
   "version": "3.9.19"
  }
 },
 "nbformat": 4,
 "nbformat_minor": 5
}
