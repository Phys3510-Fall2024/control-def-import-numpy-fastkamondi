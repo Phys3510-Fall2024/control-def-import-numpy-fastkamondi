{
 "cells": [
  {
   "cell_type": "markdown",
   "id": "d5bde521-45cb-4e54-88a9-dde32c258a15",
   "metadata": {},
   "source": [
    "## Simple Harmonic Motion\n",
    "\n",
    "Function outputs the position and velocity of a spring-mass system.\n",
    "\n",
    "Potential energy: $U = \\frac{1}{2}kx^2$\n",
    "Force: $F = -kx = ma = m\\ddot{x}$"
   ]
  },
  {
   "cell_type": "code",
   "execution_count": 12,
   "id": "5240a527-cb90-4ccb-ac12-c7467d1ce72d",
   "metadata": {},
   "outputs": [],
   "source": [
    "from math import *\n",
    "\n",
    "def harmonic_motion(t, omega, x0, v0):\n",
    "    \"\"\"\n",
    "    Outputs position & velocity of harmonic oscillator\n",
    "\n",
    "    Input:\n",
    "    t     : time in seconds\n",
    "    omega : resonant frequency (omega = sqrt(k/m))\n",
    "    x0    : initial position\n",
    "    v0    : initial velocity\n",
    "\n",
    "    Output:\n",
    "    x     : position at time t\n",
    "    v     : velocity at time t\n",
    "    \"\"\"\n",
    "\n",
    "    # position as a function of time\n",
    "    x = x0 * cos(omega * t) + (v0 / omega) * sin(omega * t)\n",
    "\n",
    "    # velocity as a function of time\n",
    "    v = -omega * x0 * sin(omega * t) + v0 * cos(omega * t)\n",
    "    \n",
    "    return x, v"
   ]
  },
  {
   "cell_type": "code",
   "execution_count": 19,
   "id": "c168c025-73e3-464b-9d64-3c4ee5a8150c",
   "metadata": {},
   "outputs": [
    {
     "name": "stdout",
     "output_type": "stream",
     "text": [
      "The position at time 3.141592653589793 is -3.0999999999999996.\n",
      "The velocity at time 3.141592653589793 is -2.0000000000000004.\n"
     ]
    }
   ],
   "source": [
    "time = pi\n",
    "omega = 1\n",
    "initial_position = 3.1\n",
    "initial_velocity = 2.0\n",
    "\n",
    "position, velocity = harmonic_motion(time, omega, initial_position, initial_velocity)\n",
    "\n",
    "print(f\"The position at time {time} is {position}.\")\n",
    "print(f\"The velocity at time {time} is {velocity}.\")"
   ]
  }
 ],
 "metadata": {
  "kernelspec": {
   "display_name": "Python 3 (ipykernel)",
   "language": "python",
   "name": "python3"
  },
  "language_info": {
   "codemirror_mode": {
    "name": "ipython",
    "version": 3
   },
   "file_extension": ".py",
   "mimetype": "text/x-python",
   "name": "python",
   "nbconvert_exporter": "python",
   "pygments_lexer": "ipython3",
   "version": "3.9.19"
  }
 },
 "nbformat": 4,
 "nbformat_minor": 5
}
